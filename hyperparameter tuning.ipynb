{
 "cells": [
  {
   "cell_type": "code",
   "execution_count": 1,
   "id": "d126afee",
   "metadata": {},
   "outputs": [],
   "source": [
    "import warnings\n",
    "warnings.filterwarnings('ignore')"
   ]
  },
  {
   "cell_type": "code",
   "execution_count": 2,
   "id": "18b1e08c",
   "metadata": {},
   "outputs": [],
   "source": [
    "import pandas as pd\n",
    "df = pd.read_csv('diabetes.csv')"
   ]
  },
  {
   "cell_type": "code",
   "execution_count": 3,
   "id": "19e87c47",
   "metadata": {},
   "outputs": [
    {
     "data": {
      "text/html": [
       "<div>\n",
       "<style scoped>\n",
       "    .dataframe tbody tr th:only-of-type {\n",
       "        vertical-align: middle;\n",
       "    }\n",
       "\n",
       "    .dataframe tbody tr th {\n",
       "        vertical-align: top;\n",
       "    }\n",
       "\n",
       "    .dataframe thead th {\n",
       "        text-align: right;\n",
       "    }\n",
       "</style>\n",
       "<table border=\"1\" class=\"dataframe\">\n",
       "  <thead>\n",
       "    <tr style=\"text-align: right;\">\n",
       "      <th></th>\n",
       "      <th>Pregnancies</th>\n",
       "      <th>Glucose</th>\n",
       "      <th>BloodPressure</th>\n",
       "      <th>SkinThickness</th>\n",
       "      <th>Insulin</th>\n",
       "      <th>BMI</th>\n",
       "      <th>DiabetesPedigreeFunction</th>\n",
       "      <th>Age</th>\n",
       "      <th>Outcome</th>\n",
       "    </tr>\n",
       "  </thead>\n",
       "  <tbody>\n",
       "    <tr>\n",
       "      <th>0</th>\n",
       "      <td>6</td>\n",
       "      <td>148</td>\n",
       "      <td>72</td>\n",
       "      <td>35</td>\n",
       "      <td>0</td>\n",
       "      <td>33.6</td>\n",
       "      <td>0.627</td>\n",
       "      <td>50</td>\n",
       "      <td>1</td>\n",
       "    </tr>\n",
       "    <tr>\n",
       "      <th>1</th>\n",
       "      <td>1</td>\n",
       "      <td>85</td>\n",
       "      <td>66</td>\n",
       "      <td>29</td>\n",
       "      <td>0</td>\n",
       "      <td>26.6</td>\n",
       "      <td>0.351</td>\n",
       "      <td>31</td>\n",
       "      <td>0</td>\n",
       "    </tr>\n",
       "    <tr>\n",
       "      <th>2</th>\n",
       "      <td>8</td>\n",
       "      <td>183</td>\n",
       "      <td>64</td>\n",
       "      <td>0</td>\n",
       "      <td>0</td>\n",
       "      <td>23.3</td>\n",
       "      <td>0.672</td>\n",
       "      <td>32</td>\n",
       "      <td>1</td>\n",
       "    </tr>\n",
       "    <tr>\n",
       "      <th>3</th>\n",
       "      <td>1</td>\n",
       "      <td>89</td>\n",
       "      <td>66</td>\n",
       "      <td>23</td>\n",
       "      <td>94</td>\n",
       "      <td>28.1</td>\n",
       "      <td>0.167</td>\n",
       "      <td>21</td>\n",
       "      <td>0</td>\n",
       "    </tr>\n",
       "    <tr>\n",
       "      <th>4</th>\n",
       "      <td>0</td>\n",
       "      <td>137</td>\n",
       "      <td>40</td>\n",
       "      <td>35</td>\n",
       "      <td>168</td>\n",
       "      <td>43.1</td>\n",
       "      <td>2.288</td>\n",
       "      <td>33</td>\n",
       "      <td>1</td>\n",
       "    </tr>\n",
       "  </tbody>\n",
       "</table>\n",
       "</div>"
      ],
      "text/plain": [
       "   Pregnancies  Glucose  BloodPressure  SkinThickness  Insulin   BMI  \\\n",
       "0            6      148             72             35        0  33.6   \n",
       "1            1       85             66             29        0  26.6   \n",
       "2            8      183             64              0        0  23.3   \n",
       "3            1       89             66             23       94  28.1   \n",
       "4            0      137             40             35      168  43.1   \n",
       "\n",
       "   DiabetesPedigreeFunction  Age  Outcome  \n",
       "0                     0.627   50        1  \n",
       "1                     0.351   31        0  \n",
       "2                     0.672   32        1  \n",
       "3                     0.167   21        0  \n",
       "4                     2.288   33        1  "
      ]
     },
     "execution_count": 3,
     "metadata": {},
     "output_type": "execute_result"
    }
   ],
   "source": [
    "df.head()"
   ]
  },
  {
   "cell_type": "code",
   "execution_count": 4,
   "id": "b3a9bedb",
   "metadata": {},
   "outputs": [],
   "source": [
    "import numpy as np\n",
    "df['Glucose']=np.where(df['Glucose']==0,df['Glucose'].median(),df['Glucose'])\n",
    "df['Insulin']=np.where(df['Insulin']==0,df['Insulin'].median(),df['Insulin'])\n",
    "df['SkinThickness']=np.where(df['SkinThickness']==0,df['SkinThickness'].median(),df['SkinThickness'])"
   ]
  },
  {
   "cell_type": "code",
   "execution_count": 5,
   "id": "05a1db69",
   "metadata": {},
   "outputs": [
    {
     "data": {
      "text/html": [
       "<div>\n",
       "<style scoped>\n",
       "    .dataframe tbody tr th:only-of-type {\n",
       "        vertical-align: middle;\n",
       "    }\n",
       "\n",
       "    .dataframe tbody tr th {\n",
       "        vertical-align: top;\n",
       "    }\n",
       "\n",
       "    .dataframe thead th {\n",
       "        text-align: right;\n",
       "    }\n",
       "</style>\n",
       "<table border=\"1\" class=\"dataframe\">\n",
       "  <thead>\n",
       "    <tr style=\"text-align: right;\">\n",
       "      <th></th>\n",
       "      <th>Pregnancies</th>\n",
       "      <th>Glucose</th>\n",
       "      <th>BloodPressure</th>\n",
       "      <th>SkinThickness</th>\n",
       "      <th>Insulin</th>\n",
       "      <th>BMI</th>\n",
       "      <th>DiabetesPedigreeFunction</th>\n",
       "      <th>Age</th>\n",
       "      <th>Outcome</th>\n",
       "    </tr>\n",
       "  </thead>\n",
       "  <tbody>\n",
       "    <tr>\n",
       "      <th>0</th>\n",
       "      <td>6</td>\n",
       "      <td>148.0</td>\n",
       "      <td>72</td>\n",
       "      <td>35.0</td>\n",
       "      <td>30.5</td>\n",
       "      <td>33.6</td>\n",
       "      <td>0.627</td>\n",
       "      <td>50</td>\n",
       "      <td>1</td>\n",
       "    </tr>\n",
       "    <tr>\n",
       "      <th>1</th>\n",
       "      <td>1</td>\n",
       "      <td>85.0</td>\n",
       "      <td>66</td>\n",
       "      <td>29.0</td>\n",
       "      <td>30.5</td>\n",
       "      <td>26.6</td>\n",
       "      <td>0.351</td>\n",
       "      <td>31</td>\n",
       "      <td>0</td>\n",
       "    </tr>\n",
       "    <tr>\n",
       "      <th>2</th>\n",
       "      <td>8</td>\n",
       "      <td>183.0</td>\n",
       "      <td>64</td>\n",
       "      <td>23.0</td>\n",
       "      <td>30.5</td>\n",
       "      <td>23.3</td>\n",
       "      <td>0.672</td>\n",
       "      <td>32</td>\n",
       "      <td>1</td>\n",
       "    </tr>\n",
       "    <tr>\n",
       "      <th>3</th>\n",
       "      <td>1</td>\n",
       "      <td>89.0</td>\n",
       "      <td>66</td>\n",
       "      <td>23.0</td>\n",
       "      <td>94.0</td>\n",
       "      <td>28.1</td>\n",
       "      <td>0.167</td>\n",
       "      <td>21</td>\n",
       "      <td>0</td>\n",
       "    </tr>\n",
       "    <tr>\n",
       "      <th>4</th>\n",
       "      <td>0</td>\n",
       "      <td>137.0</td>\n",
       "      <td>40</td>\n",
       "      <td>35.0</td>\n",
       "      <td>168.0</td>\n",
       "      <td>43.1</td>\n",
       "      <td>2.288</td>\n",
       "      <td>33</td>\n",
       "      <td>1</td>\n",
       "    </tr>\n",
       "  </tbody>\n",
       "</table>\n",
       "</div>"
      ],
      "text/plain": [
       "   Pregnancies  Glucose  BloodPressure  SkinThickness  Insulin   BMI  \\\n",
       "0            6    148.0             72           35.0     30.5  33.6   \n",
       "1            1     85.0             66           29.0     30.5  26.6   \n",
       "2            8    183.0             64           23.0     30.5  23.3   \n",
       "3            1     89.0             66           23.0     94.0  28.1   \n",
       "4            0    137.0             40           35.0    168.0  43.1   \n",
       "\n",
       "   DiabetesPedigreeFunction  Age  Outcome  \n",
       "0                     0.627   50        1  \n",
       "1                     0.351   31        0  \n",
       "2                     0.672   32        1  \n",
       "3                     0.167   21        0  \n",
       "4                     2.288   33        1  "
      ]
     },
     "execution_count": 5,
     "metadata": {},
     "output_type": "execute_result"
    }
   ],
   "source": [
    "df.head()"
   ]
  },
  {
   "cell_type": "code",
   "execution_count": 5,
   "id": "176e1cdf",
   "metadata": {},
   "outputs": [],
   "source": [
    "X = df.drop('Outcome', axis=1)\n",
    "y=df['Outcome']"
   ]
  },
  {
   "cell_type": "code",
   "execution_count": 6,
   "id": "80760562",
   "metadata": {},
   "outputs": [],
   "source": [
    "from sklearn.model_selection import train_test_split\n",
    "X_train, X_test, y_train, y_test = train_test_split(X,y,test_size=0.2,random_state=33)"
   ]
  },
  {
   "cell_type": "code",
   "execution_count": 7,
   "id": "b430bf5e",
   "metadata": {},
   "outputs": [],
   "source": [
    "from sklearn.ensemble import RandomForestClassifier\n",
    "rf=RandomForestClassifier(n_estimators=10)\n",
    "rf.fit(X_train,y_train)\n",
    "prediction=rf.predict(X_test)"
   ]
  },
  {
   "cell_type": "code",
   "execution_count": 8,
   "id": "96df6c50",
   "metadata": {},
   "outputs": [
    {
     "name": "stdout",
     "output_type": "stream",
     "text": [
      "[[85 14]\n",
      " [26 29]]\n",
      "              precision    recall  f1-score   support\n",
      "\n",
      "           0       0.77      0.86      0.81        99\n",
      "           1       0.67      0.53      0.59        55\n",
      "\n",
      "    accuracy                           0.74       154\n",
      "   macro avg       0.72      0.69      0.70       154\n",
      "weighted avg       0.73      0.74      0.73       154\n",
      "\n",
      "0.7402597402597403\n"
     ]
    }
   ],
   "source": [
    "from sklearn.metrics import confusion_matrix,classification_report,accuracy_score\n",
    "print(confusion_matrix(y_test,prediction))\n",
    "print(classification_report(y_test,prediction))\n",
    "print(accuracy_score(y_test,prediction))"
   ]
  },
  {
   "cell_type": "markdown",
   "id": "c0826cc8",
   "metadata": {},
   "source": [
    "Manual Hyperparameter tuning"
   ]
  },
  {
   "cell_type": "code",
   "execution_count": 10,
   "id": "c873eb7d",
   "metadata": {},
   "outputs": [
    {
     "name": "stdout",
     "output_type": "stream",
     "text": [
      "[[84 15]\n",
      " [27 28]]\n",
      "              precision    recall  f1-score   support\n",
      "\n",
      "           0       0.76      0.85      0.80        99\n",
      "           1       0.65      0.51      0.57        55\n",
      "\n",
      "    accuracy                           0.73       154\n",
      "   macro avg       0.70      0.68      0.69       154\n",
      "weighted avg       0.72      0.73      0.72       154\n",
      "\n",
      "0.7272727272727273\n"
     ]
    }
   ],
   "source": [
    "model=RandomForestClassifier(n_estimators=500,criterion='gini',max_features='sqrt',min_samples_leaf=10,random_state=100)\n",
    "print(confusion_matrix(y_test,prediction))\n",
    "print(classification_report(y_test,prediction))\n",
    "print(accuracy_score(y_test,prediction))"
   ]
  },
  {
   "cell_type": "markdown",
   "id": "9aab96c8",
   "metadata": {},
   "source": [
    "Randomized Search"
   ]
  },
  {
   "cell_type": "code",
   "execution_count": 14,
   "id": "69baa8f8",
   "metadata": {},
   "outputs": [
    {
     "name": "stdout",
     "output_type": "stream",
     "text": [
      "{'n_estimators': [200, 400, 600, 800, 1000, 1200, 1400, 1600, 1800, 2000], 'max_features': ['auto', 'sqrt', 'log2'], 'max_depth': [10, 120, 230, 340, 450, 560, 670, 780, 890, 1000], 'min_samples_split': [2, 5, 10, 14], 'min_samples_leaf': [1, 2, 4, 6, 8], 'criterion': ['entropy', 'gini']}\n"
     ]
    }
   ],
   "source": [
    "import numpy as np\n",
    "from sklearn.model_selection import RandomizedSearchCV\n",
    "# Number of trees in random forest\n",
    "n_estimators = [int(x) for x in np.linspace(start = 200, stop = 2000, num = 10)]\n",
    "# Number of features to consider at every split\n",
    "max_features = ['auto', 'sqrt','log2']\n",
    "# Maximum number of levels in tree\n",
    "max_depth = [int(x) for x in np.linspace(10, 1000,10)]\n",
    "# Minimum number of samples required to split a node\n",
    "min_samples_split = [2, 5, 10,14]\n",
    "# Minimum number of samples required at each leaf node\n",
    "min_samples_leaf = [1, 2, 4,6,8]\n",
    "# Create the random grid\n",
    "random_grid = {'n_estimators': n_estimators,\n",
    "               'max_features': max_features,\n",
    "               'max_depth': max_depth,\n",
    "               'min_samples_split': min_samples_split,\n",
    "               'min_samples_leaf': min_samples_leaf,\n",
    "              'criterion':['entropy','gini']}\n",
    "print(random_grid)"
   ]
  },
  {
   "cell_type": "code",
   "execution_count": 15,
   "id": "e6aaaefb",
   "metadata": {},
   "outputs": [
    {
     "name": "stdout",
     "output_type": "stream",
     "text": [
      "Fitting 3 folds for each of 100 candidates, totalling 300 fits\n"
     ]
    },
    {
     "data": {
      "text/plain": [
       "RandomizedSearchCV(cv=3, estimator=RandomForestClassifier(), n_iter=100,\n",
       "                   n_jobs=-1,\n",
       "                   param_distributions={'criterion': ['entropy', 'gini'],\n",
       "                                        'max_depth': [10, 120, 230, 340, 450,\n",
       "                                                      560, 670, 780, 890,\n",
       "                                                      1000],\n",
       "                                        'max_features': ['auto', 'sqrt',\n",
       "                                                         'log2'],\n",
       "                                        'min_samples_leaf': [1, 2, 4, 6, 8],\n",
       "                                        'min_samples_split': [2, 5, 10, 14],\n",
       "                                        'n_estimators': [200, 400, 600, 800,\n",
       "                                                         1000, 1200, 1400, 1600,\n",
       "                                                         1800, 2000]},\n",
       "                   random_state=100, verbose=2)"
      ]
     },
     "execution_count": 15,
     "metadata": {},
     "output_type": "execute_result"
    }
   ],
   "source": [
    "rf=RandomForestClassifier()\n",
    "rf_randomcv=RandomizedSearchCV(estimator=rf,param_distributions=random_grid,n_iter=100,cv=3,verbose=2,\n",
    "                               random_state=100,n_jobs=-1)\n",
    "### fit the randomized model\n",
    "rf_randomcv.fit(X_train,y_train)"
   ]
  },
  {
   "cell_type": "code",
   "execution_count": 16,
   "id": "f5dc01a1",
   "metadata": {},
   "outputs": [
    {
     "data": {
      "text/plain": [
       "{'n_estimators': 400,\n",
       " 'min_samples_split': 14,\n",
       " 'min_samples_leaf': 2,\n",
       " 'max_features': 'sqrt',\n",
       " 'max_depth': 670,\n",
       " 'criterion': 'gini'}"
      ]
     },
     "execution_count": 16,
     "metadata": {},
     "output_type": "execute_result"
    }
   ],
   "source": [
    "rf_randomcv.best_params_"
   ]
  },
  {
   "cell_type": "code",
   "execution_count": 18,
   "id": "204f834c",
   "metadata": {},
   "outputs": [
    {
     "data": {
      "text/plain": [
       "RandomForestClassifier(max_depth=670, max_features='sqrt', min_samples_leaf=2,\n",
       "                       min_samples_split=14, n_estimators=400)"
      ]
     },
     "execution_count": 18,
     "metadata": {},
     "output_type": "execute_result"
    }
   ],
   "source": [
    "rf_randomcv.best_estimator_"
   ]
  },
  {
   "cell_type": "code",
   "execution_count": 19,
   "id": "22e2eac2",
   "metadata": {},
   "outputs": [],
   "source": [
    "best_random_grid=rf_randomcv.best_estimator_"
   ]
  },
  {
   "cell_type": "code",
   "execution_count": 20,
   "id": "b07812d4",
   "metadata": {},
   "outputs": [
    {
     "name": "stdout",
     "output_type": "stream",
     "text": [
      "[[86 13]\n",
      " [25 30]]\n",
      "Accuracy Score 0.7532467532467533\n",
      "Classification report:               precision    recall  f1-score   support\n",
      "\n",
      "           0       0.77      0.87      0.82        99\n",
      "           1       0.70      0.55      0.61        55\n",
      "\n",
      "    accuracy                           0.75       154\n",
      "   macro avg       0.74      0.71      0.72       154\n",
      "weighted avg       0.75      0.75      0.75       154\n",
      "\n"
     ]
    }
   ],
   "source": [
    "from sklearn.metrics import accuracy_score\n",
    "y_pred=best_random_grid.predict(X_test)\n",
    "print(confusion_matrix(y_test,y_pred))\n",
    "print(\"Accuracy Score {}\".format(accuracy_score(y_test,y_pred)))\n",
    "print(\"Classification report: {}\".format(classification_report(y_test,y_pred)))"
   ]
  },
  {
   "cell_type": "markdown",
   "id": "7d8564e9",
   "metadata": {},
   "source": [
    "Grid SearchCV"
   ]
  },
  {
   "cell_type": "code",
   "execution_count": 21,
   "id": "1ea817a3",
   "metadata": {},
   "outputs": [
    {
     "data": {
      "text/plain": [
       "{'n_estimators': 400,\n",
       " 'min_samples_split': 14,\n",
       " 'min_samples_leaf': 2,\n",
       " 'max_features': 'sqrt',\n",
       " 'max_depth': 670,\n",
       " 'criterion': 'gini'}"
      ]
     },
     "execution_count": 21,
     "metadata": {},
     "output_type": "execute_result"
    }
   ],
   "source": [
    "rf_randomcv.best_params_"
   ]
  },
  {
   "cell_type": "code",
   "execution_count": 27,
   "id": "9be1572b",
   "metadata": {},
   "outputs": [
    {
     "name": "stdout",
     "output_type": "stream",
     "text": [
      "{'criterion': ['gini'], 'max_depth': [670], 'max_features': ['sqrt'], 'min_samples_leaf': [2, 5, 7], 'min_samples_split': [13, 9, 14, 17, 20], 'n_estimators': [200, 300, 400, 500, 700]}\n"
     ]
    }
   ],
   "source": [
    "from sklearn.model_selection import GridSearchCV\n",
    "\n",
    "param_grid = {\n",
    "    'criterion': [rf_randomcv.best_params_['criterion']],\n",
    "    'max_depth': [rf_randomcv.best_params_['max_depth']],\n",
    "    'max_features': [rf_randomcv.best_params_['max_features']],\n",
    "    'min_samples_leaf': [rf_randomcv.best_params_['min_samples_leaf'], \n",
    "                         rf_randomcv.best_params_['min_samples_leaf']+3, \n",
    "                         rf_randomcv.best_params_['min_samples_leaf'] + 5],\n",
    "    'min_samples_split': [rf_randomcv.best_params_['min_samples_split'] - 1,\n",
    "                          rf_randomcv.best_params_['min_samples_split'] - 5,\n",
    "                          rf_randomcv.best_params_['min_samples_split'], \n",
    "                          rf_randomcv.best_params_['min_samples_split'] +3,\n",
    "                          rf_randomcv.best_params_['min_samples_split'] + 6],\n",
    "    'n_estimators': [rf_randomcv.best_params_['n_estimators'] - 200, rf_randomcv.best_params_['n_estimators'] - 100, \n",
    "                     rf_randomcv.best_params_['n_estimators'], \n",
    "                     rf_randomcv.best_params_['n_estimators'] + 100, rf_randomcv.best_params_['n_estimators'] + 300]\n",
    "}\n",
    "\n",
    "print(param_grid)"
   ]
  },
  {
   "cell_type": "code",
   "execution_count": 28,
   "id": "29d7a667",
   "metadata": {},
   "outputs": [
    {
     "name": "stdout",
     "output_type": "stream",
     "text": [
      "Fitting 10 folds for each of 75 candidates, totalling 750 fits\n"
     ]
    },
    {
     "data": {
      "text/plain": [
       "GridSearchCV(cv=10, estimator=RandomForestClassifier(), n_jobs=-1,\n",
       "             param_grid={'criterion': ['gini'], 'max_depth': [670],\n",
       "                         'max_features': ['sqrt'],\n",
       "                         'min_samples_leaf': [2, 5, 7],\n",
       "                         'min_samples_split': [13, 9, 14, 17, 20],\n",
       "                         'n_estimators': [200, 300, 400, 500, 700]},\n",
       "             verbose=2)"
      ]
     },
     "execution_count": 28,
     "metadata": {},
     "output_type": "execute_result"
    }
   ],
   "source": [
    "#### Fit the grid_search to the data\n",
    "rf=RandomForestClassifier()\n",
    "grid_search=GridSearchCV(estimator=rf,param_grid=param_grid,cv=10,n_jobs=-1,verbose=2)\n",
    "grid_search.fit(X_train,y_train)"
   ]
  },
  {
   "cell_type": "code",
   "execution_count": 29,
   "id": "babeb534",
   "metadata": {},
   "outputs": [
    {
     "data": {
      "text/plain": [
       "RandomForestClassifier(max_depth=670, max_features='sqrt', min_samples_leaf=5,\n",
       "                       min_samples_split=17, n_estimators=400)"
      ]
     },
     "execution_count": 29,
     "metadata": {},
     "output_type": "execute_result"
    }
   ],
   "source": [
    "grid_search.best_estimator_"
   ]
  },
  {
   "cell_type": "code",
   "execution_count": 30,
   "id": "40e030d6",
   "metadata": {},
   "outputs": [],
   "source": [
    "best_grid=grid_search.best_estimator_"
   ]
  },
  {
   "cell_type": "code",
   "execution_count": 31,
   "id": "56038757",
   "metadata": {},
   "outputs": [
    {
     "name": "stdout",
     "output_type": "stream",
     "text": [
      "[[88 11]\n",
      " [27 28]]\n",
      "Accuracy Score 0.7532467532467533\n",
      "Classification report:               precision    recall  f1-score   support\n",
      "\n",
      "           0       0.77      0.89      0.82        99\n",
      "           1       0.72      0.51      0.60        55\n",
      "\n",
      "    accuracy                           0.75       154\n",
      "   macro avg       0.74      0.70      0.71       154\n",
      "weighted avg       0.75      0.75      0.74       154\n",
      "\n"
     ]
    }
   ],
   "source": [
    "y_pred=best_grid.predict(X_test)\n",
    "print(confusion_matrix(y_test,y_pred))\n",
    "print(\"Accuracy Score {}\".format(accuracy_score(y_test,y_pred)))\n",
    "print(\"Classification report: {}\".format(classification_report(y_test,y_pred)))"
   ]
  },
  {
   "cell_type": "markdown",
   "id": "62dcd1f4",
   "metadata": {},
   "source": [
    "# Automated Hyper Tuning"
   ]
  },
  {
   "cell_type": "markdown",
   "id": "98a91c08",
   "metadata": {},
   "source": [
    "## Bayesian Optimization"
   ]
  },
  {
   "cell_type": "code",
   "execution_count": 33,
   "id": "d195dc27",
   "metadata": {},
   "outputs": [],
   "source": [
    "from hyperopt import hp,fmin,tpe,STATUS_OK,Trials"
   ]
  },
  {
   "cell_type": "code",
   "execution_count": 34,
   "id": "7bcf69cc",
   "metadata": {},
   "outputs": [],
   "source": [
    "space = {'criterion': hp.choice('criterion', ['entropy', 'gini']),\n",
    "        'max_depth': hp.quniform('max_depth', 10, 1200, 10),\n",
    "        'max_features': hp.choice('max_features', ['auto', 'sqrt','log2', None]),\n",
    "        'min_samples_leaf': hp.uniform('min_samples_leaf', 0, 0.5),\n",
    "        'min_samples_split' : hp.uniform ('min_samples_split', 0, 1),\n",
    "        'n_estimators' : hp.choice('n_estimators', [10, 50, 300, 750, 1200,1300,1500])\n",
    "    }"
   ]
  },
  {
   "cell_type": "code",
   "execution_count": 35,
   "id": "6af5bd7a",
   "metadata": {},
   "outputs": [
    {
     "data": {
      "text/plain": [
       "{'criterion': <hyperopt.pyll.base.Apply at 0x1981222e5e0>,\n",
       " 'max_depth': <hyperopt.pyll.base.Apply at 0x198122d43d0>,\n",
       " 'max_features': <hyperopt.pyll.base.Apply at 0x198122d4520>,\n",
       " 'min_samples_leaf': <hyperopt.pyll.base.Apply at 0x198121b5970>,\n",
       " 'min_samples_split': <hyperopt.pyll.base.Apply at 0x198123863d0>,\n",
       " 'n_estimators': <hyperopt.pyll.base.Apply at 0x198123d5880>}"
      ]
     },
     "execution_count": 35,
     "metadata": {},
     "output_type": "execute_result"
    }
   ],
   "source": [
    "space"
   ]
  },
  {
   "cell_type": "code",
   "execution_count": 37,
   "id": "58124c6a",
   "metadata": {},
   "outputs": [],
   "source": [
    "def objective(space):\n",
    "    model = RandomForestClassifier(criterion = space['criterion'], max_depth = space['max_depth'],\n",
    "                                 max_features = space['max_features'],\n",
    "                                 min_samples_leaf = space['min_samples_leaf'],\n",
    "                                 min_samples_split = space['min_samples_split'],\n",
    "                                 n_estimators = space['n_estimators'] \n",
    "                                 )\n",
    "    \n",
    "    accuracy = cross_val_score(model, X_train, y_train, cv = 5).mean()\n",
    "\n",
    "    # We aim to maximize accuracy, therefore we return it as a negative value\n",
    "    return {'loss': -accuracy, 'status': STATUS_OK }"
   ]
  },
  {
   "cell_type": "code",
   "execution_count": 38,
   "id": "cacb4694",
   "metadata": {},
   "outputs": [
    {
     "name": "stdout",
     "output_type": "stream",
     "text": [
      "100%|███████████████████████████████████████████████| 80/80 [07:17<00:00,  5.47s/trial, best loss: -0.7769159003065441]\n"
     ]
    },
    {
     "data": {
      "text/plain": [
       "{'criterion': 0,\n",
       " 'max_depth': 1170.0,\n",
       " 'max_features': 3,\n",
       " 'min_samples_leaf': 0.055842423507544564,\n",
       " 'min_samples_split': 0.03313645385019368,\n",
       " 'n_estimators': 3}"
      ]
     },
     "execution_count": 38,
     "metadata": {},
     "output_type": "execute_result"
    }
   ],
   "source": [
    "from sklearn.model_selection import cross_val_score\n",
    "trials = Trials()\n",
    "best = fmin(fn= objective,\n",
    "            space= space,\n",
    "            algo= tpe.suggest,\n",
    "            max_evals = 80,\n",
    "            trials= trials)\n",
    "best"
   ]
  },
  {
   "cell_type": "code",
   "execution_count": 42,
   "id": "18fd57d5",
   "metadata": {},
   "outputs": [
    {
     "name": "stdout",
     "output_type": "stream",
     "text": [
      "entropy\n",
      "None\n",
      "750\n"
     ]
    }
   ],
   "source": [
    "crit = {0: 'entropy', 1: 'gini'}\n",
    "feat = {0: 'auto', 1: 'sqrt', 2: 'log2', 3: None}\n",
    "est = {0: 15, 1: 67, 2: 300, 3: 750, 4: 1200,5:1300,6:1550}\n",
    "\n",
    "\n",
    "print(crit[best['criterion']])\n",
    "print(feat[best['max_features']])\n",
    "print(est[best['n_estimators']])"
   ]
  },
  {
   "cell_type": "code",
   "execution_count": 43,
   "id": "e6069d88",
   "metadata": {},
   "outputs": [
    {
     "data": {
      "text/plain": [
       "0.055842423507544564"
      ]
     },
     "execution_count": 43,
     "metadata": {},
     "output_type": "execute_result"
    }
   ],
   "source": [
    "best['min_samples_leaf']"
   ]
  },
  {
   "cell_type": "code",
   "execution_count": 44,
   "id": "c15f5674",
   "metadata": {},
   "outputs": [
    {
     "name": "stdout",
     "output_type": "stream",
     "text": [
      "[[86 13]\n",
      " [27 28]]\n",
      "0.7402597402597403\n",
      "              precision    recall  f1-score   support\n",
      "\n",
      "           0       0.76      0.87      0.81        99\n",
      "           1       0.68      0.51      0.58        55\n",
      "\n",
      "    accuracy                           0.74       154\n",
      "   macro avg       0.72      0.69      0.70       154\n",
      "weighted avg       0.73      0.74      0.73       154\n",
      "\n"
     ]
    }
   ],
   "source": [
    "trainedforest = RandomForestClassifier(criterion = crit[best['criterion']], max_depth = best['max_depth'], \n",
    "                                       max_features = feat[best['max_features']], \n",
    "                                       min_samples_leaf = best['min_samples_leaf'], \n",
    "                                       min_samples_split = best['min_samples_split'], \n",
    "                                       n_estimators = est[best['n_estimators']]).fit(X_train,y_train)\n",
    "predictionforest = trainedforest.predict(X_test)\n",
    "print(confusion_matrix(y_test,predictionforest))\n",
    "print(accuracy_score(y_test,predictionforest))\n",
    "print(classification_report(y_test,predictionforest))\n",
    "acc5 = accuracy_score(y_test,predictionforest)"
   ]
  },
  {
   "cell_type": "markdown",
   "id": "96d32800",
   "metadata": {},
   "source": [
    "### Genetic Algorithms"
   ]
  },
  {
   "cell_type": "code",
   "execution_count": 9,
   "id": "7b570f14",
   "metadata": {},
   "outputs": [
    {
     "name": "stdout",
     "output_type": "stream",
     "text": [
      "{'n_estimators': [200, 400, 600, 800, 1000, 1200, 1400, 1600, 1800, 2000], 'max_features': ['auto', 'sqrt', 'log2'], 'max_depth': [10, 120, 230, 340, 450, 560, 670, 780, 890, 1000], 'min_samples_split': [2, 5, 10, 14], 'min_samples_leaf': [1, 2, 4, 6, 8], 'criterion': ['entropy', 'gini']}\n"
     ]
    }
   ],
   "source": [
    "import numpy as np\n",
    "from sklearn.model_selection import RandomizedSearchCV\n",
    "# Number of trees in random forest\n",
    "n_estimators = [int(x) for x in np.linspace(start = 200, stop = 2000, num = 10)]\n",
    "# Number of features to consider at every split\n",
    "max_features = ['auto', 'sqrt','log2']\n",
    "# Maximum number of levels in tree\n",
    "max_depth = [int(x) for x in np.linspace(10, 1000,10)]\n",
    "# Minimum number of samples required to split a node\n",
    "min_samples_split = [2, 5, 10,14]\n",
    "# Minimum number of samples required at each leaf node\n",
    "min_samples_leaf = [1, 2, 4,6,8]\n",
    "# Create the random grid\n",
    "param = {'n_estimators': n_estimators,\n",
    "               'max_features': max_features,\n",
    "               'max_depth': max_depth,\n",
    "               'min_samples_split': min_samples_split,\n",
    "               'min_samples_leaf': min_samples_leaf,\n",
    "              'criterion':['entropy','gini']}\n",
    "print(param)"
   ]
  },
  {
   "cell_type": "code",
   "execution_count": 10,
   "id": "3af32b5c",
   "metadata": {},
   "outputs": [
    {
     "data": {
      "application/vnd.jupyter.widget-view+json": {
       "model_id": "",
       "version_major": 2,
       "version_minor": 0
      },
      "text/plain": [
       "Optimization Progress:   0%|          | 0/84 [00:00<?, ?pipeline/s]"
      ]
     },
     "metadata": {},
     "output_type": "display_data"
    },
    {
     "name": "stdout",
     "output_type": "stream",
     "text": [
      "\n",
      "Generation 1 - Current best internal CV score: 0.7801969272557507\n",
      "\n",
      "Generation 2 - Current best internal CV score: 0.7801969272557507\n",
      "\n",
      "Generation 3 - Current best internal CV score: 0.7801969272557507\n",
      "\n",
      "Generation 4 - Current best internal CV score: 0.7801969272557507\n",
      "\n",
      "Generation 5 - Current best internal CV score: 0.7801969272557507\n",
      "\n",
      "Best pipeline: RandomForestClassifier(input_matrix, criterion=gini, max_depth=120, max_features=auto, min_samples_leaf=4, min_samples_split=10, n_estimators=400)\n"
     ]
    },
    {
     "data": {
      "text/plain": [
       "TPOTClassifier(config_dict={'sklearn.ensemble.RandomForestClassifier': {'criterion': ['entropy',\n",
       "                                                                                      'gini'],\n",
       "                                                                        'max_depth': [10,\n",
       "                                                                                      120,\n",
       "                                                                                      230,\n",
       "                                                                                      340,\n",
       "                                                                                      450,\n",
       "                                                                                      560,\n",
       "                                                                                      670,\n",
       "                                                                                      780,\n",
       "                                                                                      890,\n",
       "                                                                                      1000],\n",
       "                                                                        'max_features': ['auto',\n",
       "                                                                                         'sqrt',\n",
       "                                                                                         'log2'],\n",
       "                                                                        'min_samples_leaf': [1,\n",
       "                                                                                             2,\n",
       "                                                                                             4,\n",
       "                                                                                             6,\n",
       "                                                                                             8],\n",
       "                                                                        'min_samples_split': [2,\n",
       "                                                                                              5,\n",
       "                                                                                              10,\n",
       "                                                                                              14],\n",
       "                                                                        'n_estimators': [200,\n",
       "                                                                                         400,\n",
       "                                                                                         600,\n",
       "                                                                                         800,\n",
       "                                                                                         1000,\n",
       "                                                                                         1200,\n",
       "                                                                                         1400,\n",
       "                                                                                         1600,\n",
       "                                                                                         1800,\n",
       "                                                                                         2000]}},\n",
       "               cv=4, early_stop=12, generations=5, offspring_size=12,\n",
       "               population_size=24, scoring='accuracy', verbosity=2)"
      ]
     },
     "execution_count": 10,
     "metadata": {},
     "output_type": "execute_result"
    }
   ],
   "source": [
    "from tpot import TPOTClassifier\n",
    "\n",
    "\n",
    "tpot_classifier = TPOTClassifier(generations= 5, population_size= 24, offspring_size= 12,\n",
    "                                 verbosity= 2, early_stop= 12,\n",
    "                                 config_dict={'sklearn.ensemble.RandomForestClassifier': param}, \n",
    "                                 cv = 4, scoring = 'accuracy')\n",
    "tpot_classifier.fit(X_train,y_train)"
   ]
  },
  {
   "cell_type": "code",
   "execution_count": 11,
   "id": "c6fc1255",
   "metadata": {},
   "outputs": [
    {
     "name": "stdout",
     "output_type": "stream",
     "text": [
      "0.7662337662337663\n"
     ]
    }
   ],
   "source": [
    "accuracy = tpot_classifier.score(X_test, y_test)\n",
    "print(accuracy)"
   ]
  },
  {
   "cell_type": "markdown",
   "id": "4928af6a",
   "metadata": {},
   "source": [
    "### Optuna"
   ]
  },
  {
   "cell_type": "code",
   "execution_count": 12,
   "id": "4cb40085",
   "metadata": {},
   "outputs": [],
   "source": [
    "import optuna\n",
    "import sklearn.svm\n",
    "def objective(trial):\n",
    "\n",
    "    classifier = trial.suggest_categorical('classifier', ['RandomForest', 'SVC'])\n",
    "    \n",
    "    if classifier == 'RandomForest':\n",
    "        n_estimators = trial.suggest_int('n_estimators', 200, 2000,10)\n",
    "        max_depth = int(trial.suggest_float('max_depth', 10, 100, log=True))\n",
    "\n",
    "        clf = sklearn.ensemble.RandomForestClassifier(\n",
    "            n_estimators=n_estimators, max_depth=max_depth)\n",
    "    else:\n",
    "        c = trial.suggest_float('svc_c', 1e-10, 1e10, log=True)\n",
    "        \n",
    "        clf = sklearn.svm.SVC(C=c, gamma='auto')\n",
    "\n",
    "    return sklearn.model_selection.cross_val_score(\n",
    "        clf,X_train,y_train, n_jobs=-1, cv=3).mean()"
   ]
  },
  {
   "cell_type": "code",
   "execution_count": 13,
   "id": "4fef023a",
   "metadata": {},
   "outputs": [
    {
     "name": "stderr",
     "output_type": "stream",
     "text": [
      "\u001b[32m[I 2022-09-30 20:00:41,560]\u001b[0m A new study created in memory with name: no-name-8aff8444-3955-4573-9e84-ff008dfc69e5\u001b[0m\n",
      "\u001b[32m[I 2022-09-30 20:01:01,634]\u001b[0m Trial 0 finished with value: 0.7655188904830225 and parameters: {'classifier': 'RandomForest', 'n_estimators': 270, 'max_depth': 20.84812061022293}. Best is trial 0 with value: 0.7655188904830225.\u001b[0m\n",
      "\u001b[32m[I 2022-09-30 20:01:07,205]\u001b[0m Trial 1 finished with value: 0.7704128805993943 and parameters: {'classifier': 'RandomForest', 'n_estimators': 1680, 'max_depth': 22.56435052307719}. Best is trial 1 with value: 0.7704128805993943.\u001b[0m\n",
      "\u001b[32m[I 2022-09-30 20:01:09,130]\u001b[0m Trial 2 finished with value: 0.6530926191614858 and parameters: {'classifier': 'SVC', 'svc_c': 59559.60070413331}. Best is trial 1 with value: 0.7704128805993943.\u001b[0m\n",
      "\u001b[32m[I 2022-09-30 20:01:12,272]\u001b[0m Trial 3 finished with value: 0.7703969392635103 and parameters: {'classifier': 'RandomForest', 'n_estimators': 1400, 'max_depth': 13.977260318743367}. Best is trial 1 with value: 0.7704128805993943.\u001b[0m\n",
      "\u001b[32m[I 2022-09-30 20:01:15,004]\u001b[0m Trial 4 finished with value: 0.7655029491471385 and parameters: {'classifier': 'RandomForest', 'n_estimators': 1330, 'max_depth': 35.56559554810716}. Best is trial 1 with value: 0.7704128805993943.\u001b[0m\n",
      "\u001b[32m[I 2022-09-30 20:01:15,044]\u001b[0m Trial 5 finished with value: 0.6530926191614858 and parameters: {'classifier': 'SVC', 'svc_c': 6.672550809434953e-08}. Best is trial 1 with value: 0.7704128805993943.\u001b[0m\n",
      "\u001b[32m[I 2022-09-30 20:01:15,334]\u001b[0m Trial 6 finished with value: 0.6530926191614858 and parameters: {'classifier': 'SVC', 'svc_c': 634170.1349766041}. Best is trial 1 with value: 0.7704128805993943.\u001b[0m\n",
      "\u001b[32m[I 2022-09-30 20:01:15,435]\u001b[0m Trial 7 finished with value: 0.6530926191614858 and parameters: {'classifier': 'SVC', 'svc_c': 4.357151200147933e-06}. Best is trial 1 with value: 0.7704128805993943.\u001b[0m\n",
      "\u001b[32m[I 2022-09-30 20:01:16,784]\u001b[0m Trial 8 finished with value: 0.7703969392635103 and parameters: {'classifier': 'RandomForest', 'n_estimators': 300, 'max_depth': 70.04099718174442}. Best is trial 1 with value: 0.7704128805993943.\u001b[0m\n",
      "\u001b[32m[I 2022-09-30 20:01:16,832]\u001b[0m Trial 9 finished with value: 0.6530926191614858 and parameters: {'classifier': 'SVC', 'svc_c': 5.80667341076716e-08}. Best is trial 1 with value: 0.7704128805993943.\u001b[0m\n",
      "\u001b[32m[I 2022-09-30 20:01:22,003]\u001b[0m Trial 10 finished with value: 0.7704049099314524 and parameters: {'classifier': 'RandomForest', 'n_estimators': 1890, 'max_depth': 34.29149412990001}. Best is trial 1 with value: 0.7704128805993943.\u001b[0m\n",
      "\u001b[32m[I 2022-09-30 20:01:29,280]\u001b[0m Trial 11 finished with value: 0.7687709230033476 and parameters: {'classifier': 'RandomForest', 'n_estimators': 1960, 'max_depth': 36.26520439169087}. Best is trial 1 with value: 0.7704128805993943.\u001b[0m\n",
      "\u001b[32m[I 2022-09-30 20:01:34,910]\u001b[0m Trial 12 finished with value: 0.7687709230033476 and parameters: {'classifier': 'RandomForest', 'n_estimators': 1980, 'max_depth': 25.148477603578165}. Best is trial 1 with value: 0.7704128805993943.\u001b[0m\n",
      "\u001b[32m[I 2022-09-30 20:01:39,554]\u001b[0m Trial 13 finished with value: 0.7655268611509646 and parameters: {'classifier': 'RandomForest', 'n_estimators': 1600, 'max_depth': 56.30838443427423}. Best is trial 1 with value: 0.7704128805993943.\u001b[0m\n",
      "\u001b[32m[I 2022-09-30 20:01:42,713]\u001b[0m Trial 14 finished with value: 0.7687788936712897 and parameters: {'classifier': 'RandomForest', 'n_estimators': 830, 'max_depth': 11.099606832138361}. Best is trial 1 with value: 0.7704128805993943.\u001b[0m\n",
      "\u001b[32m[I 2022-09-30 20:01:47,794]\u001b[0m Trial 15 finished with value: 0.7704049099314524 and parameters: {'classifier': 'RandomForest', 'n_estimators': 1680, 'max_depth': 19.42570192856327}. Best is trial 1 with value: 0.7704128805993943.\u001b[0m\n",
      "\u001b[32m[I 2022-09-30 20:01:51,067]\u001b[0m Trial 16 finished with value: 0.7720149848557308 and parameters: {'classifier': 'RandomForest', 'n_estimators': 1020, 'max_depth': 44.054232877523305}. Best is trial 16 with value: 0.7720149848557308.\u001b[0m\n",
      "\u001b[32m[I 2022-09-30 20:01:53,714]\u001b[0m Trial 17 finished with value: 0.7655029491471385 and parameters: {'classifier': 'RandomForest', 'n_estimators': 950, 'max_depth': 94.98280935789326}. Best is trial 16 with value: 0.7720149848557308.\u001b[0m\n",
      "\u001b[32m[I 2022-09-30 20:01:55,589]\u001b[0m Trial 18 finished with value: 0.7687788936712897 and parameters: {'classifier': 'RandomForest', 'n_estimators': 700, 'max_depth': 49.95098401123889}. Best is trial 16 with value: 0.7720149848557308.\u001b[0m\n",
      "\u001b[32m[I 2022-09-30 20:01:58,828]\u001b[0m Trial 19 finished with value: 0.7622588872947552 and parameters: {'classifier': 'RandomForest', 'n_estimators': 1190, 'max_depth': 25.783163064589292}. Best is trial 16 with value: 0.7720149848557308.\u001b[0m\n",
      "\u001b[32m[I 2022-09-30 20:02:01,841]\u001b[0m Trial 20 finished with value: 0.7720468675274988 and parameters: {'classifier': 'RandomForest', 'n_estimators': 1120, 'max_depth': 51.006526482352285}. Best is trial 20 with value: 0.7720468675274988.\u001b[0m\n",
      "\u001b[32m[I 2022-09-30 20:02:03,485]\u001b[0m Trial 21 finished with value: 0.767144906743185 and parameters: {'classifier': 'RandomForest', 'n_estimators': 600, 'max_depth': 47.82660846214149}. Best is trial 20 with value: 0.7720468675274988.\u001b[0m\n",
      "\u001b[32m[I 2022-09-30 20:02:06,409]\u001b[0m Trial 22 finished with value: 0.7638849035549179 and parameters: {'classifier': 'RandomForest', 'n_estimators': 1070, 'max_depth': 70.75180035236814}. Best is trial 20 with value: 0.7720468675274988.\u001b[0m\n",
      "\u001b[32m[I 2022-09-30 20:02:10,645]\u001b[0m Trial 23 finished with value: 0.7687788936712897 and parameters: {'classifier': 'RandomForest', 'n_estimators': 1580, 'max_depth': 44.75159844122983}. Best is trial 20 with value: 0.7720468675274988.\u001b[0m\n",
      "\u001b[32m[I 2022-09-30 20:02:13,814]\u001b[0m Trial 24 finished with value: 0.7752989000478241 and parameters: {'classifier': 'RandomForest', 'n_estimators': 1170, 'max_depth': 27.62752957583289}. Best is trial 24 with value: 0.7752989000478241.\u001b[0m\n",
      "\u001b[32m[I 2022-09-30 20:02:16,908]\u001b[0m Trial 25 finished with value: 0.7655188904830225 and parameters: {'classifier': 'RandomForest', 'n_estimators': 1150, 'max_depth': 65.14064895843293}. Best is trial 24 with value: 0.7752989000478241.\u001b[0m\n",
      "\u001b[32m[I 2022-09-30 20:02:19,553]\u001b[0m Trial 26 finished with value: 0.767144906743185 and parameters: {'classifier': 'RandomForest', 'n_estimators': 930, 'max_depth': 29.509626972260385}. Best is trial 24 with value: 0.7752989000478241.\u001b[0m\n",
      "\u001b[32m[I 2022-09-30 20:02:19,740]\u001b[0m Trial 27 finished with value: 0.6530926191614858 and parameters: {'classifier': 'SVC', 'svc_c': 0.1308471265397437}. Best is trial 24 with value: 0.7752989000478241.\u001b[0m\n",
      "\u001b[32m[I 2022-09-30 20:02:24,176]\u001b[0m Trial 28 finished with value: 0.7622668579626972 and parameters: {'classifier': 'RandomForest', 'n_estimators': 1350, 'max_depth': 42.7616914792638}. Best is trial 24 with value: 0.7752989000478241.\u001b[0m\n",
      "\u001b[32m[I 2022-09-30 20:02:26,156]\u001b[0m Trial 29 finished with value: 0.7703969392635103 and parameters: {'classifier': 'RandomForest', 'n_estimators': 540, 'max_depth': 16.75362916956289}. Best is trial 24 with value: 0.7752989000478241.\u001b[0m\n",
      "\u001b[32m[I 2022-09-30 20:02:29,016]\u001b[0m Trial 30 finished with value: 0.7655268611509646 and parameters: {'classifier': 'RandomForest', 'n_estimators': 1020, 'max_depth': 83.37950121521874}. Best is trial 24 with value: 0.7752989000478241.\u001b[0m\n",
      "\u001b[32m[I 2022-09-30 20:02:32,508]\u001b[0m Trial 31 finished with value: 0.7704049099314524 and parameters: {'classifier': 'RandomForest', 'n_estimators': 1260, 'max_depth': 27.706637755030513}. Best is trial 24 with value: 0.7752989000478241.\u001b[0m\n",
      "\u001b[32m[I 2022-09-30 20:02:34,750]\u001b[0m Trial 32 finished with value: 0.7704049099314524 and parameters: {'classifier': 'RandomForest', 'n_estimators': 780, 'max_depth': 37.41903701938023}. Best is trial 24 with value: 0.7752989000478241.\u001b[0m\n",
      "\u001b[32m[I 2022-09-30 20:02:39,942]\u001b[0m Trial 33 finished with value: 0.7687629523354057 and parameters: {'classifier': 'RandomForest', 'n_estimators': 1770, 'max_depth': 21.545291297973918}. Best is trial 24 with value: 0.7752989000478241.\u001b[0m\n",
      "\u001b[32m[I 2022-09-30 20:02:43,848]\u001b[0m Trial 34 finished with value: 0.7687709230033476 and parameters: {'classifier': 'RandomForest', 'n_estimators': 1440, 'max_depth': 56.570388419728154}. Best is trial 24 with value: 0.7752989000478241.\u001b[0m\n"
     ]
    },
    {
     "name": "stderr",
     "output_type": "stream",
     "text": [
      "\u001b[32m[I 2022-09-30 20:02:43,926]\u001b[0m Trial 35 finished with value: 0.6530926191614858 and parameters: {'classifier': 'SVC', 'svc_c': 727792346.5206801}. Best is trial 24 with value: 0.7752989000478241.\u001b[0m\n",
      "\u001b[32m[I 2022-09-30 20:02:48,073]\u001b[0m Trial 36 finished with value: 0.7736489717838354 and parameters: {'classifier': 'RandomForest', 'n_estimators': 1500, 'max_depth': 40.522473261951355}. Best is trial 24 with value: 0.7752989000478241.\u001b[0m\n",
      "\u001b[32m[I 2022-09-30 20:02:52,317]\u001b[0m Trial 37 finished with value: 0.7655029491471385 and parameters: {'classifier': 'RandomForest', 'n_estimators': 1460, 'max_depth': 40.13078398370642}. Best is trial 24 with value: 0.7752989000478241.\u001b[0m\n",
      "\u001b[32m[I 2022-09-30 20:02:52,380]\u001b[0m Trial 38 finished with value: 0.6530926191614858 and parameters: {'classifier': 'SVC', 'svc_c': 0.11164729411127663}. Best is trial 24 with value: 0.7752989000478241.\u001b[0m\n",
      "\u001b[32m[I 2022-09-30 20:02:55,592]\u001b[0m Trial 39 finished with value: 0.7704049099314524 and parameters: {'classifier': 'RandomForest', 'n_estimators': 1220, 'max_depth': 31.139476259364415}. Best is trial 24 with value: 0.7752989000478241.\u001b[0m\n",
      "\u001b[32m[I 2022-09-30 20:02:59,160]\u001b[0m Trial 40 finished with value: 0.7703969392635103 and parameters: {'classifier': 'RandomForest', 'n_estimators': 1090, 'max_depth': 56.233053159006836}. Best is trial 24 with value: 0.7752989000478241.\u001b[0m\n",
      "\u001b[32m[I 2022-09-30 20:03:03,519]\u001b[0m Trial 41 finished with value: 0.7655188904830225 and parameters: {'classifier': 'RandomForest', 'n_estimators': 1520, 'max_depth': 23.920874985299726}. Best is trial 24 with value: 0.7752989000478241.\u001b[0m\n",
      "\u001b[32m[I 2022-09-30 20:03:08,210]\u001b[0m Trial 42 finished with value: 0.7687788936712897 and parameters: {'classifier': 'RandomForest', 'n_estimators': 1700, 'max_depth': 17.478864119330353}. Best is trial 24 with value: 0.7752989000478241.\u001b[0m\n",
      "\u001b[32m[I 2022-09-30 20:03:08,267]\u001b[0m Trial 43 finished with value: 0.6530926191614858 and parameters: {'classifier': 'SVC', 'svc_c': 2.9636645167348056e-10}. Best is trial 24 with value: 0.7752989000478241.\u001b[0m\n",
      "\u001b[32m[I 2022-09-30 20:03:12,230]\u001b[0m Trial 44 finished with value: 0.7655268611509646 and parameters: {'classifier': 'RandomForest', 'n_estimators': 1300, 'max_depth': 29.69744375157673}. Best is trial 24 with value: 0.7752989000478241.\u001b[0m\n",
      "\u001b[32m[I 2022-09-30 20:03:16,317]\u001b[0m Trial 45 finished with value: 0.7736649131197195 and parameters: {'classifier': 'RandomForest', 'n_estimators': 1780, 'max_depth': 33.27390777019635}. Best is trial 24 with value: 0.7752989000478241.\u001b[0m\n",
      "\u001b[32m[I 2022-09-30 20:03:20,653]\u001b[0m Trial 46 finished with value: 0.7671608480790691 and parameters: {'classifier': 'RandomForest', 'n_estimators': 1790, 'max_depth': 32.78250813199347}. Best is trial 24 with value: 0.7752989000478241.\u001b[0m\n",
      "\u001b[32m[I 2022-09-30 20:03:22,752]\u001b[0m Trial 47 finished with value: 0.7687868643392317 and parameters: {'classifier': 'RandomForest', 'n_estimators': 950, 'max_depth': 38.24519700210406}. Best is trial 24 with value: 0.7752989000478241.\u001b[0m\n",
      "\u001b[32m[I 2022-09-30 20:03:27,469]\u001b[0m Trial 48 finished with value: 0.7736808544556034 and parameters: {'classifier': 'RandomForest', 'n_estimators': 1870, 'max_depth': 52.68903234740076}. Best is trial 24 with value: 0.7752989000478241.\u001b[0m\n",
      "\u001b[32m[I 2022-09-30 20:03:27,545]\u001b[0m Trial 49 finished with value: 0.6530926191614858 and parameters: {'classifier': 'SVC', 'svc_c': 201.52460776847443}. Best is trial 24 with value: 0.7752989000478241.\u001b[0m\n",
      "\u001b[32m[I 2022-09-30 20:03:32,690]\u001b[0m Trial 50 finished with value: 0.767144906743185 and parameters: {'classifier': 'RandomForest', 'n_estimators': 1870, 'max_depth': 62.30806971821543}. Best is trial 24 with value: 0.7752989000478241.\u001b[0m\n",
      "\u001b[32m[I 2022-09-30 20:03:37,493]\u001b[0m Trial 51 finished with value: 0.7671289654073011 and parameters: {'classifier': 'RandomForest', 'n_estimators': 1810, 'max_depth': 49.7596478567498}. Best is trial 24 with value: 0.7752989000478241.\u001b[0m\n",
      "\u001b[32m[I 2022-09-30 20:03:42,790]\u001b[0m Trial 52 finished with value: 0.7655029491471385 and parameters: {'classifier': 'RandomForest', 'n_estimators': 1990, 'max_depth': 43.58193510322088}. Best is trial 24 with value: 0.7752989000478241.\u001b[0m\n",
      "\u001b[32m[I 2022-09-30 20:03:47,586]\u001b[0m Trial 53 finished with value: 0.7704128805993943 and parameters: {'classifier': 'RandomForest', 'n_estimators': 1630, 'max_depth': 33.44902071046126}. Best is trial 24 with value: 0.7752989000478241.\u001b[0m\n",
      "\u001b[32m[I 2022-09-30 20:03:52,973]\u001b[0m Trial 54 finished with value: 0.772038896859557 and parameters: {'classifier': 'RandomForest', 'n_estimators': 1900, 'max_depth': 40.56848868812962}. Best is trial 24 with value: 0.7752989000478241.\u001b[0m\n",
      "\u001b[32m[I 2022-09-30 20:03:59,871]\u001b[0m Trial 55 finished with value: 0.7752989000478241 and parameters: {'classifier': 'RandomForest', 'n_estimators': 1900, 'max_depth': 53.0764267986525}. Best is trial 24 with value: 0.7752989000478241.\u001b[0m\n",
      "\u001b[32m[I 2022-09-30 20:04:05,031]\u001b[0m Trial 56 finished with value: 0.7703969392635103 and parameters: {'classifier': 'RandomForest', 'n_estimators': 1730, 'max_depth': 51.57833741692994}. Best is trial 24 with value: 0.7752989000478241.\u001b[0m\n",
      "\u001b[32m[I 2022-09-30 20:04:11,001]\u001b[0m Trial 57 finished with value: 0.7655109198150805 and parameters: {'classifier': 'RandomForest', 'n_estimators': 1860, 'max_depth': 76.4069176695004}. Best is trial 24 with value: 0.7752989000478241.\u001b[0m\n",
      "\u001b[32m[I 2022-09-30 20:04:15,745]\u001b[0m Trial 58 finished with value: 0.7687709230033476 and parameters: {'classifier': 'RandomForest', 'n_estimators': 1530, 'max_depth': 59.23640370336256}. Best is trial 24 with value: 0.7752989000478241.\u001b[0m\n",
      "\u001b[32m[I 2022-09-30 20:04:20,421]\u001b[0m Trial 59 finished with value: 0.7687709230033476 and parameters: {'classifier': 'RandomForest', 'n_estimators': 1650, 'max_depth': 34.80766634934571}. Best is trial 24 with value: 0.7752989000478241.\u001b[0m\n",
      "\u001b[32m[I 2022-09-30 20:04:20,973]\u001b[0m Trial 60 finished with value: 0.7736728837876615 and parameters: {'classifier': 'RandomForest', 'n_estimators': 200, 'max_depth': 53.07427724163366}. Best is trial 24 with value: 0.7752989000478241.\u001b[0m\n",
      "\u001b[32m[I 2022-09-30 20:04:21,831]\u001b[0m Trial 61 finished with value: 0.7655029491471385 and parameters: {'classifier': 'RandomForest', 'n_estimators': 310, 'max_depth': 53.73340738987746}. Best is trial 24 with value: 0.7752989000478241.\u001b[0m\n",
      "\u001b[32m[I 2022-09-30 20:04:26,918]\u001b[0m Trial 62 finished with value: 0.7704128805993943 and parameters: {'classifier': 'RandomForest', 'n_estimators': 1920, 'max_depth': 47.05818402063475}. Best is trial 24 with value: 0.7752989000478241.\u001b[0m\n",
      "\u001b[32m[I 2022-09-30 20:04:30,526]\u001b[0m Trial 63 finished with value: 0.772038896859557 and parameters: {'classifier': 'RandomForest', 'n_estimators': 1360, 'max_depth': 66.49062197078428}. Best is trial 24 with value: 0.7752989000478241.\u001b[0m\n",
      "\u001b[32m[I 2022-09-30 20:04:31,305]\u001b[0m Trial 64 finished with value: 0.7703969392635103 and parameters: {'classifier': 'RandomForest', 'n_estimators': 250, 'max_depth': 47.05868822846879}. Best is trial 24 with value: 0.7752989000478241.\u001b[0m\n",
      "\u001b[32m[I 2022-09-30 20:04:32,350]\u001b[0m Trial 65 finished with value: 0.7557229395823369 and parameters: {'classifier': 'RandomForest', 'n_estimators': 380, 'max_depth': 60.6452546012156}. Best is trial 24 with value: 0.7752989000478241.\u001b[0m\n",
      "\u001b[32m[I 2022-09-30 20:04:37,652]\u001b[0m Trial 66 finished with value: 0.7687868643392317 and parameters: {'classifier': 'RandomForest', 'n_estimators': 2000, 'max_depth': 72.32574984253097}. Best is trial 24 with value: 0.7752989000478241.\u001b[0m\n",
      "\u001b[32m[I 2022-09-30 20:04:41,122]\u001b[0m Trial 67 finished with value: 0.7687868643392317 and parameters: {'classifier': 'RandomForest', 'n_estimators': 1160, 'max_depth': 51.78308107475153}. Best is trial 24 with value: 0.7752989000478241.\u001b[0m\n",
      "\u001b[32m[I 2022-09-30 20:04:41,186]\u001b[0m Trial 68 finished with value: 0.6530926191614858 and parameters: {'classifier': 'SVC', 'svc_c': 0.0002586977465167488}. Best is trial 24 with value: 0.7752989000478241.\u001b[0m\n",
      "\u001b[32m[I 2022-09-30 20:04:43,353]\u001b[0m Trial 69 finished with value: 0.7687788936712897 and parameters: {'classifier': 'RandomForest', 'n_estimators': 810, 'max_depth': 25.883541953523498}. Best is trial 24 with value: 0.7752989000478241.\u001b[0m\n"
     ]
    },
    {
     "name": "stderr",
     "output_type": "stream",
     "text": [
      "\u001b[32m[I 2022-09-30 20:04:48,097]\u001b[0m Trial 70 finished with value: 0.7687788936712897 and parameters: {'classifier': 'RandomForest', 'n_estimators': 1820, 'max_depth': 10.374765457692318}. Best is trial 24 with value: 0.7752989000478241.\u001b[0m\n",
      "\u001b[32m[I 2022-09-30 20:04:53,438]\u001b[0m Trial 71 finished with value: 0.7720229555236728 and parameters: {'classifier': 'RandomForest', 'n_estimators': 1920, 'max_depth': 41.091228116064}. Best is trial 24 with value: 0.7752989000478241.\u001b[0m\n",
      "\u001b[32m[I 2022-09-30 20:04:58,044]\u001b[0m Trial 72 finished with value: 0.772038896859557 and parameters: {'classifier': 'RandomForest', 'n_estimators': 1910, 'max_depth': 36.9565390036213}. Best is trial 24 with value: 0.7752989000478241.\u001b[0m\n",
      "\u001b[32m[I 2022-09-30 20:05:01,343]\u001b[0m Trial 73 finished with value: 0.772038896859557 and parameters: {'classifier': 'RandomForest', 'n_estimators': 1370, 'max_depth': 65.53102882178962}. Best is trial 24 with value: 0.7752989000478241.\u001b[0m\n",
      "\u001b[32m[I 2022-09-30 20:05:04,370]\u001b[0m Trial 74 finished with value: 0.7655268611509646 and parameters: {'classifier': 'RandomForest', 'n_estimators': 1270, 'max_depth': 67.29277478216744}. Best is trial 24 with value: 0.7752989000478241.\u001b[0m\n",
      "\u001b[32m[I 2022-09-30 20:05:08,703]\u001b[0m Trial 75 finished with value: 0.7720468675274988 and parameters: {'classifier': 'RandomForest', 'n_estimators': 1740, 'max_depth': 39.50445599467255}. Best is trial 24 with value: 0.7752989000478241.\u001b[0m\n",
      "\u001b[32m[I 2022-09-30 20:05:13,109]\u001b[0m Trial 76 finished with value: 0.772038896859557 and parameters: {'classifier': 'RandomForest', 'n_estimators': 1740, 'max_depth': 45.04403719339134}. Best is trial 24 with value: 0.7752989000478241.\u001b[0m\n",
      "\u001b[32m[I 2022-09-30 20:05:15,222]\u001b[0m Trial 77 finished with value: 0.767144906743185 and parameters: {'classifier': 'RandomForest', 'n_estimators': 880, 'max_depth': 27.866260907294308}. Best is trial 24 with value: 0.7752989000478241.\u001b[0m\n",
      "\u001b[32m[I 2022-09-30 20:05:16,733]\u001b[0m Trial 78 finished with value: 0.767144906743185 and parameters: {'classifier': 'RandomForest', 'n_estimators': 630, 'max_depth': 55.83514936899018}. Best is trial 24 with value: 0.7752989000478241.\u001b[0m\n",
      "\u001b[32m[I 2022-09-30 20:05:16,802]\u001b[0m Trial 79 finished with value: 0.6530926191614858 and parameters: {'classifier': 'SVC', 'svc_c': 3701292816.0997458}. Best is trial 24 with value: 0.7752989000478241.\u001b[0m\n",
      "\u001b[32m[I 2022-09-30 20:05:20,673]\u001b[0m Trial 80 finished with value: 0.7687709230033476 and parameters: {'classifier': 'RandomForest', 'n_estimators': 1590, 'max_depth': 47.41094195672154}. Best is trial 24 with value: 0.7752989000478241.\u001b[0m\n",
      "\u001b[32m[I 2022-09-30 20:05:23,204]\u001b[0m Trial 81 finished with value: 0.7687709230033476 and parameters: {'classifier': 'RandomForest', 'n_estimators': 1040, 'max_depth': 80.26232813703584}. Best is trial 24 with value: 0.7752989000478241.\u001b[0m\n",
      "\u001b[32m[I 2022-09-30 20:05:26,981]\u001b[0m Trial 82 finished with value: 0.767144906743185 and parameters: {'classifier': 'RandomForest', 'n_estimators': 1420, 'max_depth': 31.32613952509068}. Best is trial 24 with value: 0.7752989000478241.\u001b[0m\n",
      "\u001b[32m[I 2022-09-30 20:05:33,407]\u001b[0m Trial 83 finished with value: 0.7687709230033476 and parameters: {'classifier': 'RandomForest', 'n_estimators': 1830, 'max_depth': 36.83934239411984}. Best is trial 24 with value: 0.7752989000478241.\u001b[0m\n",
      "\u001b[32m[I 2022-09-30 20:05:38,249]\u001b[0m Trial 84 finished with value: 0.772038896859557 and parameters: {'classifier': 'RandomForest', 'n_estimators': 1950, 'max_depth': 40.42998400596163}. Best is trial 24 with value: 0.7752989000478241.\u001b[0m\n",
      "\u001b[32m[I 2022-09-30 20:05:42,689]\u001b[0m Trial 85 finished with value: 0.7736728837876615 and parameters: {'classifier': 'RandomForest', 'n_estimators': 1760, 'max_depth': 39.79040600793883}. Best is trial 24 with value: 0.7752989000478241.\u001b[0m\n",
      "\u001b[32m[I 2022-09-30 20:05:47,867]\u001b[0m Trial 86 finished with value: 0.7703969392635103 and parameters: {'classifier': 'RandomForest', 'n_estimators': 1690, 'max_depth': 34.736327664881216}. Best is trial 24 with value: 0.7752989000478241.\u001b[0m\n",
      "\u001b[32m[I 2022-09-30 20:05:51,454]\u001b[0m Trial 87 finished with value: 0.7687709230033476 and parameters: {'classifier': 'RandomForest', 'n_estimators': 1510, 'max_depth': 43.60696640290615}. Best is trial 24 with value: 0.7752989000478241.\u001b[0m\n",
      "\u001b[32m[I 2022-09-30 20:05:55,385]\u001b[0m Trial 88 finished with value: 0.7704049099314524 and parameters: {'classifier': 'RandomForest', 'n_estimators': 1850, 'max_depth': 50.58943963932366}. Best is trial 24 with value: 0.7752989000478241.\u001b[0m\n",
      "\u001b[32m[I 2022-09-30 20:05:59,150]\u001b[0m Trial 89 finished with value: 0.7687788936712897 and parameters: {'classifier': 'RandomForest', 'n_estimators': 1770, 'max_depth': 38.61787703564169}. Best is trial 24 with value: 0.7752989000478241.\u001b[0m\n",
      "\u001b[32m[I 2022-09-30 20:06:02,640]\u001b[0m Trial 90 finished with value: 0.7671608480790691 and parameters: {'classifier': 'RandomForest', 'n_estimators': 1710, 'max_depth': 29.104288524178273}. Best is trial 24 with value: 0.7752989000478241.\u001b[0m\n",
      "\u001b[32m[I 2022-09-30 20:06:05,030]\u001b[0m Trial 91 finished with value: 0.7704049099314524 and parameters: {'classifier': 'RandomForest', 'n_estimators': 1220, 'max_depth': 12.623219937083055}. Best is trial 24 with value: 0.7752989000478241.\u001b[0m\n",
      "\u001b[32m[I 2022-09-30 20:06:08,598]\u001b[0m Trial 92 finished with value: 0.7703969392635103 and parameters: {'classifier': 'RandomForest', 'n_estimators': 1740, 'max_depth': 45.26983770971673}. Best is trial 24 with value: 0.7752989000478241.\u001b[0m\n",
      "\u001b[32m[I 2022-09-30 20:06:11,346]\u001b[0m Trial 93 finished with value: 0.7655109198150805 and parameters: {'classifier': 'RandomForest', 'n_estimators': 1110, 'max_depth': 97.45021720826853}. Best is trial 24 with value: 0.7752989000478241.\u001b[0m\n",
      "\u001b[32m[I 2022-09-30 20:06:15,695]\u001b[0m Trial 94 finished with value: 0.7720468675274988 and parameters: {'classifier': 'RandomForest', 'n_estimators': 1370, 'max_depth': 59.96256341743189}. Best is trial 24 with value: 0.7752989000478241.\u001b[0m\n",
      "\u001b[32m[I 2022-09-30 20:06:19,616]\u001b[0m Trial 95 finished with value: 0.7687868643392317 and parameters: {'classifier': 'RandomForest', 'n_estimators': 1630, 'max_depth': 58.38685342336944}. Best is trial 24 with value: 0.7752989000478241.\u001b[0m\n",
      "\u001b[32m[I 2022-09-30 20:06:19,689]\u001b[0m Trial 96 finished with value: 0.6530926191614858 and parameters: {'classifier': 'SVC', 'svc_c': 103.58320359875066}. Best is trial 24 with value: 0.7752989000478241.\u001b[0m\n",
      "\u001b[32m[I 2022-09-30 20:06:23,294]\u001b[0m Trial 97 finished with value: 0.772038896859557 and parameters: {'classifier': 'RandomForest', 'n_estimators': 1480, 'max_depth': 53.97912704282267}. Best is trial 24 with value: 0.7752989000478241.\u001b[0m\n",
      "\u001b[32m[I 2022-09-30 20:06:26,564]\u001b[0m Trial 98 finished with value: 0.7720229555236728 and parameters: {'classifier': 'RandomForest', 'n_estimators': 1140, 'max_depth': 63.24544551143466}. Best is trial 24 with value: 0.7752989000478241.\u001b[0m\n",
      "\u001b[32m[I 2022-09-30 20:06:30,837]\u001b[0m Trial 99 finished with value: 0.7687788936712897 and parameters: {'classifier': 'RandomForest', 'n_estimators': 1570, 'max_depth': 42.143581759799034}. Best is trial 24 with value: 0.7752989000478241.\u001b[0m\n"
     ]
    },
    {
     "name": "stdout",
     "output_type": "stream",
     "text": [
      "Accuracy: 0.7752989000478241\n",
      "Best hyperparameters: {'classifier': 'RandomForest', 'n_estimators': 1170, 'max_depth': 27.62752957583289}\n"
     ]
    }
   ],
   "source": [
    "study = optuna.create_study(direction='maximize')\n",
    "study.optimize(objective, n_trials=100)\n",
    "\n",
    "trial = study.best_trial\n",
    "\n",
    "print('Accuracy: {}'.format(trial.value))\n",
    "print(\"Best hyperparameters: {}\".format(trial.params))"
   ]
  },
  {
   "cell_type": "code",
   "execution_count": 14,
   "id": "b45f5796",
   "metadata": {},
   "outputs": [
    {
     "data": {
      "text/plain": [
       "{'classifier': 'RandomForest',\n",
       " 'n_estimators': 1170,\n",
       " 'max_depth': 27.62752957583289}"
      ]
     },
     "execution_count": 14,
     "metadata": {},
     "output_type": "execute_result"
    }
   ],
   "source": [
    "study.best_params"
   ]
  },
  {
   "cell_type": "code",
   "execution_count": 15,
   "id": "aedfef04",
   "metadata": {},
   "outputs": [
    {
     "data": {
      "text/plain": [
       "RandomForestClassifier(max_depth=30, n_estimators=330)"
      ]
     },
     "execution_count": 15,
     "metadata": {},
     "output_type": "execute_result"
    }
   ],
   "source": [
    "rf=RandomForestClassifier(n_estimators=330,max_depth=30)\n",
    "rf.fit(X_train,y_train)"
   ]
  },
  {
   "cell_type": "code",
   "execution_count": 16,
   "id": "1851bdc5",
   "metadata": {},
   "outputs": [
    {
     "name": "stdout",
     "output_type": "stream",
     "text": [
      "[[84 15]\n",
      " [23 32]]\n",
      "0.7532467532467533\n",
      "              precision    recall  f1-score   support\n",
      "\n",
      "           0       0.79      0.85      0.82        99\n",
      "           1       0.68      0.58      0.63        55\n",
      "\n",
      "    accuracy                           0.75       154\n",
      "   macro avg       0.73      0.72      0.72       154\n",
      "weighted avg       0.75      0.75      0.75       154\n",
      "\n"
     ]
    }
   ],
   "source": [
    "y_pred=rf.predict(X_test)\n",
    "print(confusion_matrix(y_test,y_pred))\n",
    "print(accuracy_score(y_test,y_pred))\n",
    "print(classification_report(y_test,y_pred))"
   ]
  },
  {
   "cell_type": "code",
   "execution_count": null,
   "id": "bfd9266e",
   "metadata": {},
   "outputs": [],
   "source": []
  }
 ],
 "metadata": {
  "kernelspec": {
   "display_name": "Python 3 (ipykernel)",
   "language": "python",
   "name": "python3"
  },
  "language_info": {
   "codemirror_mode": {
    "name": "ipython",
    "version": 3
   },
   "file_extension": ".py",
   "mimetype": "text/x-python",
   "name": "python",
   "nbconvert_exporter": "python",
   "pygments_lexer": "ipython3",
   "version": "3.9.12"
  }
 },
 "nbformat": 4,
 "nbformat_minor": 5
}
